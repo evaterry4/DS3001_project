{
  "cells": [
    {
      "cell_type": "markdown",
      "metadata": {
        "colab_type": "text",
        "id": "view-in-github"
      },
      "source": [
        "<a href=\"https://colab.research.google.com/github/evaterry4/DS3001_project/blob/main/Train_Test_Split_pt2%2BLASSO_model_.ipynb\" target=\"_parent\"><img src=\"https://colab.research.google.com/assets/colab-badge.svg\" alt=\"Open In Colab\"/></a>"
      ]
    },
    {
      "cell_type": "code",
      "execution_count": 199,
      "metadata": {
        "colab": {
          "base_uri": "https://localhost:8080/"
        },
        "id": "HrTjrqIvWEEN",
        "outputId": "8c794918-7d45-4fba-f34b-3fe1f952d69c"
      },
      "outputs": [
        {
          "name": "stdout",
          "output_type": "stream",
          "text": [
            "fatal: destination path 'DS3001_project' already exists and is not an empty directory.\n"
          ]
        }
      ],
      "source": [
        "!git clone https://github.com/evaterry4/DS3001_project.git"
      ]
    },
    {
      "cell_type": "code",
      "execution_count": 200,
      "metadata": {
        "id": "aLSOnjqsW85y"
      },
      "outputs": [],
      "source": [
        "import pandas as pd\n",
        "data = pd.read_csv(\"DS3001_project/college_data_clean.csv\")"
      ]
    },
    {
      "cell_type": "code",
      "execution_count": 201,
      "metadata": {
        "id": "xr48E8TsZoCW"
      },
      "outputs": [],
      "source": [
        "import numpy as np\n",
        "import pandas as pd\n",
        "import matplotlib.pyplot as plt\n",
        "import seaborn as sns"
      ]
    },
    {
      "cell_type": "code",
      "execution_count": 202,
      "metadata": {
        "colab": {
          "base_uri": "https://localhost:8080/",
          "height": 446
        },
        "id": "6LEah2SKZfzi",
        "outputId": "8c7139c9-4d25-453e-ab25-1c333a78f4bf"
      },
      "outputs": [
        {
          "data": {
            "text/html": [
              "<div>\n",
              "<style scoped>\n",
              "    .dataframe tbody tr th:only-of-type {\n",
              "        vertical-align: middle;\n",
              "    }\n",
              "\n",
              "    .dataframe tbody tr th {\n",
              "        vertical-align: top;\n",
              "    }\n",
              "\n",
              "    .dataframe thead th {\n",
              "        text-align: right;\n",
              "    }\n",
              "</style>\n",
              "<table border=\"1\" class=\"dataframe\">\n",
              "  <thead>\n",
              "    <tr style=\"text-align: right;\">\n",
              "      <th></th>\n",
              "      <th>id</th>\n",
              "      <th>name</th>\n",
              "      <th>zip</th>\n",
              "      <th>city</th>\n",
              "      <th>state</th>\n",
              "      <th>acceptance_rate</th>\n",
              "      <th>part_time</th>\n",
              "      <th>debt</th>\n",
              "      <th>degree_type</th>\n",
              "      <th>pell_grant</th>\n",
              "      <th>...</th>\n",
              "      <th>percent_loans</th>\n",
              "      <th>graduation_rate</th>\n",
              "      <th>yearly_cost</th>\n",
              "      <th>student_pop</th>\n",
              "      <th>earnings</th>\n",
              "      <th>school_type</th>\n",
              "      <th>region</th>\n",
              "      <th>average_act</th>\n",
              "      <th>precent_female</th>\n",
              "      <th>average_income</th>\n",
              "    </tr>\n",
              "  </thead>\n",
              "  <tbody>\n",
              "    <tr>\n",
              "      <th>0</th>\n",
              "      <td>100654</td>\n",
              "      <td>Alabama A &amp; M University</td>\n",
              "      <td>35762</td>\n",
              "      <td>Normal</td>\n",
              "      <td>AL</td>\n",
              "      <td>0.6840</td>\n",
              "      <td>0.0778</td>\n",
              "      <td>31000</td>\n",
              "      <td>3</td>\n",
              "      <td>0.6553</td>\n",
              "      <td>...</td>\n",
              "      <td>0.5365</td>\n",
              "      <td>0.2678</td>\n",
              "      <td>23167.0</td>\n",
              "      <td>5196.0</td>\n",
              "      <td>46562.0</td>\n",
              "      <td>Public</td>\n",
              "      <td>5</td>\n",
              "      <td>18.0</td>\n",
              "      <td>0.5640301318</td>\n",
              "      <td>32362.826114</td>\n",
              "    </tr>\n",
              "    <tr>\n",
              "      <th>1</th>\n",
              "      <td>100663</td>\n",
              "      <td>University of Alabama at Birmingham</td>\n",
              "      <td>35294-0110</td>\n",
              "      <td>Birmingham</td>\n",
              "      <td>AL</td>\n",
              "      <td>0.8668</td>\n",
              "      <td>0.1986</td>\n",
              "      <td>22300</td>\n",
              "      <td>3</td>\n",
              "      <td>0.3374</td>\n",
              "      <td>...</td>\n",
              "      <td>0.4214</td>\n",
              "      <td>0.6442</td>\n",
              "      <td>26257.0</td>\n",
              "      <td>12776.0</td>\n",
              "      <td>52404.0</td>\n",
              "      <td>Public</td>\n",
              "      <td>5</td>\n",
              "      <td>27.0</td>\n",
              "      <td>0.6390907397</td>\n",
              "      <td>51306.674306</td>\n",
              "    </tr>\n",
              "    <tr>\n",
              "      <th>2</th>\n",
              "      <td>100690</td>\n",
              "      <td>Amridge University</td>\n",
              "      <td>36117-3553</td>\n",
              "      <td>Montgomery</td>\n",
              "      <td>AL</td>\n",
              "      <td>NaN</td>\n",
              "      <td>0.4342</td>\n",
              "      <td>32189</td>\n",
              "      <td>3</td>\n",
              "      <td>0.7769</td>\n",
              "      <td>...</td>\n",
              "      <td>0.5896</td>\n",
              "      <td>0.5000</td>\n",
              "      <td>NaN</td>\n",
              "      <td>228.0</td>\n",
              "      <td>45765.0</td>\n",
              "      <td>Private Nonprofit</td>\n",
              "      <td>5</td>\n",
              "      <td>NaN</td>\n",
              "      <td>0.6486486486</td>\n",
              "      <td>21079.472973</td>\n",
              "    </tr>\n",
              "    <tr>\n",
              "      <th>3</th>\n",
              "      <td>100706</td>\n",
              "      <td>University of Alabama in Huntsville</td>\n",
              "      <td>35899</td>\n",
              "      <td>Huntsville</td>\n",
              "      <td>AL</td>\n",
              "      <td>0.7810</td>\n",
              "      <td>0.1612</td>\n",
              "      <td>20705</td>\n",
              "      <td>3</td>\n",
              "      <td>0.2235</td>\n",
              "      <td>...</td>\n",
              "      <td>0.3511</td>\n",
              "      <td>0.6295</td>\n",
              "      <td>25777.0</td>\n",
              "      <td>6985.0</td>\n",
              "      <td>67695.0</td>\n",
              "      <td>Public</td>\n",
              "      <td>5</td>\n",
              "      <td>28.0</td>\n",
              "      <td>0.4763499372</td>\n",
              "      <td>61096.588949</td>\n",
              "    </tr>\n",
              "    <tr>\n",
              "      <th>4</th>\n",
              "      <td>100724</td>\n",
              "      <td>Alabama State University</td>\n",
              "      <td>36104-0271</td>\n",
              "      <td>Montgomery</td>\n",
              "      <td>AL</td>\n",
              "      <td>0.9660</td>\n",
              "      <td>0.0771</td>\n",
              "      <td>31000</td>\n",
              "      <td>3</td>\n",
              "      <td>0.6984</td>\n",
              "      <td>...</td>\n",
              "      <td>0.768</td>\n",
              "      <td>0.2773</td>\n",
              "      <td>21900.0</td>\n",
              "      <td>3296.0</td>\n",
              "      <td>37551.0</td>\n",
              "      <td>Public</td>\n",
              "      <td>5</td>\n",
              "      <td>18.0</td>\n",
              "      <td>0.6134185304</td>\n",
              "      <td>31684.382188</td>\n",
              "    </tr>\n",
              "  </tbody>\n",
              "</table>\n",
              "<p>5 rows × 21 columns</p>\n",
              "</div>"
            ],
            "text/plain": [
              "       id                                 name         zip        city state  \\\n",
              "0  100654             Alabama A & M University       35762      Normal    AL   \n",
              "1  100663  University of Alabama at Birmingham  35294-0110  Birmingham    AL   \n",
              "2  100690                   Amridge University  36117-3553  Montgomery    AL   \n",
              "3  100706  University of Alabama in Huntsville       35899  Huntsville    AL   \n",
              "4  100724             Alabama State University  36104-0271  Montgomery    AL   \n",
              "\n",
              "   acceptance_rate  part_time   debt  degree_type pell_grant  ...  \\\n",
              "0           0.6840     0.0778  31000            3     0.6553  ...   \n",
              "1           0.8668     0.1986  22300            3     0.3374  ...   \n",
              "2              NaN     0.4342  32189            3     0.7769  ...   \n",
              "3           0.7810     0.1612  20705            3     0.2235  ...   \n",
              "4           0.9660     0.0771  31000            3     0.6984  ...   \n",
              "\n",
              "   percent_loans graduation_rate  yearly_cost  student_pop  earnings  \\\n",
              "0         0.5365          0.2678      23167.0       5196.0   46562.0   \n",
              "1         0.4214          0.6442      26257.0      12776.0   52404.0   \n",
              "2         0.5896          0.5000          NaN        228.0   45765.0   \n",
              "3         0.3511          0.6295      25777.0       6985.0   67695.0   \n",
              "4          0.768          0.2773      21900.0       3296.0   37551.0   \n",
              "\n",
              "         school_type region  average_act  precent_female average_income  \n",
              "0             Public      5         18.0    0.5640301318   32362.826114  \n",
              "1             Public      5         27.0    0.6390907397   51306.674306  \n",
              "2  Private Nonprofit      5          NaN    0.6486486486   21079.472973  \n",
              "3             Public      5         28.0    0.4763499372   61096.588949  \n",
              "4             Public      5         18.0    0.6134185304   31684.382188  \n",
              "\n",
              "[5 rows x 21 columns]"
            ]
          },
          "execution_count": 202,
          "metadata": {},
          "output_type": "execute_result"
        }
      ],
      "source": [
        "data.head()"
      ]
    },
    {
      "cell_type": "code",
      "execution_count": 203,
      "metadata": {
        "colab": {
          "base_uri": "https://localhost:8080/"
        },
        "id": "cyKHHnnvi5xO",
        "outputId": "230a9ffa-8d0b-4466-e8b3-915069a9170b"
      },
      "outputs": [
        {
          "name": "stdout",
          "output_type": "stream",
          "text": [
            "id                    0\n",
            "name                  0\n",
            "zip                   0\n",
            "city                  0\n",
            "state                 0\n",
            "acceptance_rate     375\n",
            "part_time             4\n",
            "debt                 27\n",
            "degree_type           0\n",
            "pell_grant           14\n",
            "stud_fac_ratio        3\n",
            "percent_loans        14\n",
            "graduation_rate     143\n",
            "yearly_cost         168\n",
            "student_pop           0\n",
            "earnings            182\n",
            "school_type           5\n",
            "region                0\n",
            "average_act        1044\n",
            "precent_female       64\n",
            "average_income       64\n",
            "dtype: int64\n"
          ]
        }
      ],
      "source": [
        "nan_count = data.isna().sum()\n",
        "print(nan_count)"
      ]
    },
    {
      "cell_type": "markdown",
      "metadata": {
        "id": "yfUL6zcpm-mZ"
      },
      "source": [
        " Going to get rid of NaN's in acceptance_rate because according to data dictionary they are there becasue school with fewer then 30 students either do not report that info or the dept of education choose to not include it becase it would \"dramatically change the rate\"\n",
        "\n",
        "Also getting rid of NaN's in average_act and yearly_cost cause based off data dictionary they are there cause school chose not to report the score.\n"
      ]
    },
    {
      "cell_type": "code",
      "execution_count": 204,
      "metadata": {
        "id": "JhDogH7GnlOb"
      },
      "outputs": [],
      "source": [
        "#print(data['graduation_rate'])"
      ]
    },
    {
      "cell_type": "code",
      "execution_count": 205,
      "metadata": {
        "id": "pb062qVfjpFZ"
      },
      "outputs": [],
      "source": [
        "#print(data['average_act'])"
      ]
    },
    {
      "cell_type": "code",
      "execution_count": 206,
      "metadata": {
        "id": "e-bBN-a8plqB"
      },
      "outputs": [],
      "source": [
        "#print(data['yearly_cost'])"
      ]
    },
    {
      "cell_type": "markdown",
      "metadata": {
        "id": "_fEt-BdzfsVU"
      },
      "source": [
        "id\n",
        "name\n",
        "zip\tcity\n",
        "state\n",
        "acceptance_rate\n",
        "part_time\n",
        "debt\n",
        "degree_type\n",
        "pell_grant\n",
        "stud_fac_ratio\n",
        "percent_loans\n",
        "graduation_rate\n",
        "yearly_cost\n",
        "student_pop\n",
        "earnings\n",
        "school_type\tregion\n",
        "average_act\n",
        "precent_female\n",
        "average_income"
      ]
    },
    {
      "cell_type": "code",
      "execution_count": 207,
      "metadata": {
        "colab": {
          "base_uri": "https://localhost:8080/"
        },
        "id": "x8ghIW3LSpWP",
        "outputId": "374787c0-32f8-49dc-a73c-a3e83e9dd11c"
      },
      "outputs": [
        {
          "data": {
            "text/plain": [
              "Index(['id', 'name', 'zip', 'city', 'state', 'acceptance_rate', 'part_time',\n",
              "       'debt', 'degree_type', 'pell_grant', 'stud_fac_ratio', 'percent_loans',\n",
              "       'graduation_rate', 'yearly_cost', 'student_pop', 'earnings',\n",
              "       'school_type', 'region', 'average_act', 'precent_female',\n",
              "       'average_income'],\n",
              "      dtype='object')"
            ]
          },
          "execution_count": 207,
          "metadata": {},
          "output_type": "execute_result"
        }
      ],
      "source": [
        "data.columns"
      ]
    },
    {
      "cell_type": "code",
      "execution_count": 208,
      "metadata": {
        "id": "KOcuavuRVKys"
      },
      "outputs": [],
      "source": [
        "#clean the reigon variable based on the data dictionary\n",
        "region_mapping = {\n",
        "    0: 'US-service-schools',\n",
        "    1: 'new-england',\n",
        "    2: 'mid-east',\n",
        "    3: 'great-lakes',\n",
        "    4: 'plains',\n",
        "    5: 'southeast',\n",
        "    6: 'southwest',\n",
        "    7: 'rocky-mountains',\n",
        "    8: 'far-west'\n",
        "}\n",
        "\n",
        "# Map the region codes to region names in the DataFrame\n",
        "data['region'] = data['region'].map(region_mapping)"
      ]
    },
    {
      "cell_type": "code",
      "execution_count": 209,
      "metadata": {
        "id": "CLu9op3bUo--"
      },
      "outputs": [],
      "source": [
        "data_clean = data.dropna()\n",
        "y = data_clean['graduation_rate']\n",
        "\n",
        "# I belive we have to one-hot encode region before the train test split\n",
        "df = pd.get_dummies(data_clean[['region', 'acceptance_rate', 'pell_grant','stud_fac_ratio','percent_loans','average_act', 'average_income']],\n",
        "                   columns=['region'],\n",
        "                   drop_first=False)  # Keep all categories for interpretability\n",
        "\n",
        "# Split the sample:\n",
        "from sklearn.model_selection import train_test_split\n",
        "df_train, df_test, y_train, y_test = train_test_split(df, y,\n",
        "                                                    test_size=.2,\n",
        "                                                    random_state=100)"
      ]
    },
    {
      "cell_type": "code",
      "execution_count": 210,
      "metadata": {
        "colab": {
          "base_uri": "https://localhost:8080/"
        },
        "id": "Ub9c7sxstHj4",
        "outputId": "78dba528-ea6b-4bd8-b9d7-40966b48047e"
      },
      "outputs": [
        {
          "name": "stdout",
          "output_type": "stream",
          "text": [
            "R squared score: 0.7551833769248124\n",
            "RMSE: 0.08354508634420854\n",
            "                     Variable  Coefficient\n",
            "0             acceptance_rate    -0.093258\n",
            "1                  pell_grant    -0.235818\n",
            "2              stud_fac_ratio     0.000511\n",
            "3               percent_loans    -0.040241\n",
            "4                 average_act     0.016737\n",
            "5              average_income     0.000002\n",
            "6   region_US-service-schools     0.197348\n",
            "7             region_far-west     0.273706\n",
            "8          region_great-lakes     0.234844\n",
            "9             region_mid-east     0.246210\n",
            "10         region_new-england     0.221060\n",
            "11              region_plains     0.216125\n",
            "12     region_rocky-mountains     0.180851\n",
            "13           region_southeast     0.221600\n",
            "14           region_southwest     0.210359\n"
          ]
        }
      ],
      "source": [
        "from sklearn import linear_model\n",
        "#ols model with all the variables\n",
        "\n",
        "reg = linear_model.LinearRegression(fit_intercept=False).fit(df_train,y_train)\n",
        "\n",
        "\n",
        "y_hat = reg.predict(df_test)\n",
        "\n",
        "r2_score = reg.score(df_test, y_test)\n",
        "print(f\"R squared score: {r2_score}\")\n",
        "\n",
        "rmse = np.sqrt( np.mean( (y_test - y_hat)**2 ))\n",
        "print(f\"RMSE: {rmse}\")\n",
        "\n",
        "results = pd.DataFrame({'Variable': reg.feature_names_in_, 'Coefficient': reg.coef_})\n",
        "print(results)"
      ]
    },
    {
      "cell_type": "code",
      "execution_count": 211,
      "metadata": {
        "colab": {
          "base_uri": "https://localhost:8080/",
          "height": 520
        },
        "id": "qsTA0GJETFrv",
        "outputId": "eaab4c52-edbe-4805-cb5e-0aeeb41f5266"
      },
      "outputs": [
        {
          "data": {
            "text/html": [
              "<div>\n",
              "<style scoped>\n",
              "    .dataframe tbody tr th:only-of-type {\n",
              "        vertical-align: middle;\n",
              "    }\n",
              "\n",
              "    .dataframe tbody tr th {\n",
              "        vertical-align: top;\n",
              "    }\n",
              "\n",
              "    .dataframe thead th {\n",
              "        text-align: right;\n",
              "    }\n",
              "</style>\n",
              "<table border=\"1\" class=\"dataframe\">\n",
              "  <thead>\n",
              "    <tr style=\"text-align: right;\">\n",
              "      <th></th>\n",
              "      <th>variable</th>\n",
              "      <th>slope</th>\n",
              "    </tr>\n",
              "  </thead>\n",
              "  <tbody>\n",
              "    <tr>\n",
              "      <th>0</th>\n",
              "      <td>acceptance_rate</td>\n",
              "      <td>-0.011781</td>\n",
              "    </tr>\n",
              "    <tr>\n",
              "      <th>1</th>\n",
              "      <td>pell_grant</td>\n",
              "      <td>-0.026522</td>\n",
              "    </tr>\n",
              "    <tr>\n",
              "      <th>2</th>\n",
              "      <td>stud_fac_ratio</td>\n",
              "      <td>-0.000000</td>\n",
              "    </tr>\n",
              "    <tr>\n",
              "      <th>3</th>\n",
              "      <td>percent_loans</td>\n",
              "      <td>-0.000000</td>\n",
              "    </tr>\n",
              "    <tr>\n",
              "      <th>4</th>\n",
              "      <td>average_act</td>\n",
              "      <td>0.078347</td>\n",
              "    </tr>\n",
              "    <tr>\n",
              "      <th>5</th>\n",
              "      <td>average_income</td>\n",
              "      <td>0.037258</td>\n",
              "    </tr>\n",
              "    <tr>\n",
              "      <th>6</th>\n",
              "      <td>region_US-service-schools</td>\n",
              "      <td>0.000000</td>\n",
              "    </tr>\n",
              "    <tr>\n",
              "      <th>7</th>\n",
              "      <td>region_far-west</td>\n",
              "      <td>0.002067</td>\n",
              "    </tr>\n",
              "    <tr>\n",
              "      <th>8</th>\n",
              "      <td>region_great-lakes</td>\n",
              "      <td>0.000000</td>\n",
              "    </tr>\n",
              "    <tr>\n",
              "      <th>9</th>\n",
              "      <td>region_mid-east</td>\n",
              "      <td>0.000000</td>\n",
              "    </tr>\n",
              "    <tr>\n",
              "      <th>10</th>\n",
              "      <td>region_new-england</td>\n",
              "      <td>-0.000000</td>\n",
              "    </tr>\n",
              "    <tr>\n",
              "      <th>11</th>\n",
              "      <td>region_plains</td>\n",
              "      <td>-0.000000</td>\n",
              "    </tr>\n",
              "    <tr>\n",
              "      <th>12</th>\n",
              "      <td>region_rocky-mountains</td>\n",
              "      <td>-0.000000</td>\n",
              "    </tr>\n",
              "    <tr>\n",
              "      <th>13</th>\n",
              "      <td>region_southeast</td>\n",
              "      <td>-0.000000</td>\n",
              "    </tr>\n",
              "    <tr>\n",
              "      <th>14</th>\n",
              "      <td>region_southwest</td>\n",
              "      <td>-0.000000</td>\n",
              "    </tr>\n",
              "  </tbody>\n",
              "</table>\n",
              "</div>"
            ],
            "text/plain": [
              "                     variable     slope\n",
              "0             acceptance_rate -0.011781\n",
              "1                  pell_grant -0.026522\n",
              "2              stud_fac_ratio -0.000000\n",
              "3               percent_loans -0.000000\n",
              "4                 average_act  0.078347\n",
              "5              average_income  0.037258\n",
              "6   region_US-service-schools  0.000000\n",
              "7             region_far-west  0.002067\n",
              "8          region_great-lakes  0.000000\n",
              "9             region_mid-east  0.000000\n",
              "10         region_new-england -0.000000\n",
              "11              region_plains -0.000000\n",
              "12     region_rocky-mountains -0.000000\n",
              "13           region_southeast -0.000000\n",
              "14           region_southwest -0.000000"
            ]
          },
          "execution_count": 211,
          "metadata": {},
          "output_type": "execute_result"
        }
      ],
      "source": [
        "from sklearn import linear_model\n",
        "#lasso\n",
        "# Scale data:\n",
        "from sklearn.preprocessing import StandardScaler\n",
        "scaler = StandardScaler()\n",
        "scaler.fit(df_train)\n",
        "X_sc = scaler.transform(df_train)\n",
        "\n",
        "# Run LASSO:\n",
        "reg = linear_model.Lasso(alpha=0.01,\n",
        "                         warm_start=True,\n",
        "                         max_iter=10000000,\n",
        "                         fit_intercept=True)\n",
        "reg.fit(X_sc,y_train)\n",
        "\n",
        "sdf = pd.DataFrame({'variable': df_train.columns, 'slope':reg.coef_})\n",
        "sdf\n",
        "\n",
        "#drop stud_fac_ratio, percent_loans"
      ]
    },
    {
      "cell_type": "code",
      "execution_count": 212,
      "metadata": {
        "colab": {
          "base_uri": "https://localhost:8080/"
        },
        "id": "mt2r0JTWabFx",
        "outputId": "343b2bad-b981-4d6e-a0e8-bf37b503c0c8"
      },
      "outputs": [
        {
          "name": "stdout",
          "output_type": "stream",
          "text": [
            "R squared score: 0.7527846757702866\n",
            "RMSE: 0.08395337399671907\n",
            "                     Variable  Coefficient\n",
            "0             acceptance_rate    -0.096003\n",
            "1                  pell_grant    -0.264974\n",
            "2                 average_act     0.017463\n",
            "3              average_income     0.000002\n",
            "4   region_US-service-schools     0.201144\n",
            "5             region_far-west     0.266754\n",
            "6          region_great-lakes     0.226080\n",
            "7             region_mid-east     0.237315\n",
            "8          region_new-england     0.212727\n",
            "9               region_plains     0.208001\n",
            "10     region_rocky-mountains     0.177565\n",
            "11           region_southeast     0.215412\n",
            "12           region_southwest     0.207249\n"
          ]
        }
      ],
      "source": [
        "#model using variables selected by lasso\n",
        "#I used ai to figure out how to add the catagorical variable to my new x_train/test while keeping the original split\n",
        "x_train_lasso = df_train[['acceptance_rate', 'pell_grant','average_act', 'average_income'] + [col for col in df_train.columns if col.startswith('region_')]]  # Include one-hot encoded region columns\n",
        "x_test_lasso = df_test[['acceptance_rate', 'pell_grant','average_act', 'average_income'] + [col for col in df_test.columns if col.startswith('region_')]]\n",
        "\n",
        "reg = linear_model.LinearRegression(fit_intercept=False).fit(x_train_lasso,y_train)\n",
        "\n",
        "\n",
        "y_hat = reg.predict(x_test_lasso)\n",
        "\n",
        "r2_score = reg.score(x_test_lasso, y_test)\n",
        "print(f\"R squared score: {r2_score}\")\n",
        "\n",
        "rmse = np.sqrt( np.mean( (y_test - y_hat)**2 ))\n",
        "print(f\"RMSE: {rmse}\")\n",
        "\n",
        "results = pd.DataFrame({'Variable': reg.feature_names_in_, 'Coefficient': reg.coef_})\n",
        "print(results)"
      ]
    },
    {
      "cell_type": "code",
      "execution_count": 213,
      "metadata": {
        "colab": {
          "base_uri": "https://localhost:8080/"
        },
        "id": "OhMk7iv9atS2",
        "outputId": "27b0c635-6264-4571-86b8-487cc6d40135"
      },
      "outputs": [
        {
          "name": "stdout",
          "output_type": "stream",
          "text": [
            "R squared score: 0.7657546362257236\n",
            "RMSE: 0.08172143096604254\n",
            "          Variable  Coefficient\n",
            "0  acceptance_rate    -0.055047\n",
            "1       pell_grant    -0.121575\n",
            "2      average_act     0.022091\n",
            "3   average_income     0.000002\n"
          ]
        }
      ],
      "source": [
        "#second model using lasso (drop reigon also because most reigons not selected)\n",
        "\n",
        "x_train_lasso2 = df_train[['acceptance_rate', 'pell_grant','average_act', 'average_income']]\n",
        "x_test_lasso2 = df_test[['acceptance_rate', 'pell_grant','average_act', 'average_income']]\n",
        "\n",
        "reg = linear_model.LinearRegression(fit_intercept=False).fit(x_train_lasso2,y_train)\n",
        "\n",
        "\n",
        "# This line should be changed to use x_test_lasso to predict on the test set\n",
        "y_hat = reg.predict(x_test_lasso2)\n",
        "\n",
        "r2_score = reg.score(x_test_lasso2, y_test)\n",
        "print(f\"R squared score: {r2_score}\")\n",
        "\n",
        "rmse = np.sqrt( np.mean( (y_test - y_hat)**2 ))\n",
        "print(f\"RMSE: {rmse}\")\n",
        "\n",
        "results = pd.DataFrame({'Variable': reg.feature_names_in_, 'Coefficient': reg.coef_})\n",
        "print(results)"
      ]
    },
    {
      "cell_type": "markdown",
      "metadata": {},
      "source": [
        "PCA"
      ]
    },
    {
      "cell_type": "code",
      "execution_count": 216,
      "metadata": {},
      "outputs": [
        {
          "data": {
            "image/png": "[encoded data removed]",
            "text/plain": [
              "<Figure size 800x600 with 1 Axes>"
            ]
          },
          "metadata": {},
          "output_type": "display_data"
        },
        {
          "name": "stdout",
          "output_type": "stream",
          "text": [
            "Number of components to retain for 95.0% explained variance: 11\n",
            "Mean Squared Error: 0.006979781452264175\n",
            "R-squared: 0.7551833769247102\n",
            "\n",
            "Model Coefficients (Relationship between Principal Components and Graduation Rate):\n",
            "       Coefficient\n",
            "PC1   7.895259e-02\n",
            "PC2   3.177807e-03\n",
            "PC3  -6.130791e-03\n",
            "PC4  -5.653642e-05\n",
            "PC5  -6.744100e-03\n",
            "PC6   5.650020e-03\n",
            "PC7  -4.605538e-03\n",
            "PC8   1.712538e-03\n",
            "PC9  -1.523824e-02\n",
            "PC10  1.888818e-02\n",
            "PC11 -1.311228e-02\n",
            "PC12  1.516874e-02\n",
            "PC13  3.164044e-02\n",
            "PC14  5.569860e-03\n",
            "PC15  1.037606e-17\n"
          ]
        }
      ],
      "source": [
        "from sklearn.decomposition import PCA\n",
        "from sklearn.preprocessing import StandardScaler\n",
        "from sklearn.linear_model import LinearRegression\n",
        "from sklearn.metrics import mean_squared_error, r2_score\n",
        "# import matplotlib.pyplot as plt\n",
        "\n",
        "data_clean = data.dropna()\n",
        "y = data_clean['graduation_rate']\n",
        "\n",
        "df = pd.get_dummies(data_clean[['region', 'acceptance_rate', 'pell_grant','stud_fac_ratio','percent_loans','average_act', 'average_income']],\n",
        "                   columns=['region'],\n",
        "                   drop_first=False)  # Keep all categories for interpretability\n",
        "\n",
        "from sklearn.model_selection import train_test_split\n",
        "X_train, X_test, y_train, y_test = train_test_split(df, y,\n",
        "                                                    test_size=.2,\n",
        "                                                    random_state=100)\n",
        "# using standard z-scale since PCA works best with scaled data\n",
        "scaler = StandardScaler()\n",
        "X_train_scaled = scaler.fit_transform(X_train)\n",
        "X_test_scaled = scaler.transform(X_test)\n",
        "\n",
        "pca = PCA()\n",
        "pca.fit(X_train_scaled)\n",
        "\n",
        "explained_variance_ratio = pca.explained_variance_ratio_\n",
        "\n",
        "# making the screen plot\n",
        "plt.figure(figsize=(8, 6))\n",
        "plt.plot(range(1, len(explained_variance_ratio) + 1), explained_variance_ratio, marker='o', linestyle='--')\n",
        "plt.xlabel('Principal Component')\n",
        "plt.ylabel('Explained Variance Ratio')\n",
        "plt.title('Scree Plot')\n",
        "plt.xticks(range(1, len(explained_variance_ratio) + 1))  # Ensure each principal component is labeled\n",
        "plt.grid(True)\n",
        "plt.show()\n",
        "threshold = 0.95\n",
        "n_components_to_retain = np.argmax(np.cumsum(explained_variance_ratio) >= threshold) + 1\n",
        "print(f\"Number of components to retain for {threshold*100}% explained variance: {n_components_to_retain}\")\n",
        "\n",
        "\n",
        "X_train_pca = pca.transform(X_train_scaled)\n",
        "X_test_pca = pca.transform(X_test_scaled)\n",
        "model = LinearRegression()\n",
        "model.fit(X_train_pca, y_train)\n",
        "\n",
        "y_pred = model.predict(X_test_pca)\n",
        "mse = mean_squared_error(y_test, y_pred)\n",
        "r2 = r2_score(y_test, y_pred)\n",
        "\n",
        "print(f'Mean Squared Error: {mse}')\n",
        "print(f'R-squared: {r2}')\n",
        "\n",
        "coefficients = model.coef_\n",
        "coefficients_df = pd.DataFrame(coefficients, index=[f'PC{i+1}' for i in range(len(coefficients))], columns=['Coefficient'])\n",
        "print(\"\\nModel Coefficients (Relationship between Principal Components and Graduation Rate):\")\n",
        "print(coefficients_df)"
      ]
    },
    {
      "cell_type": "markdown",
      "metadata": {},
      "source": [
        "After applying PCA and using a linear regression model, we want to translate the results back to our features to determine which features contribute most to each component. To do this, we will make a pandas data frame and get the feature that contributes most to each component (has the greatest load)."
      ]
    },
    {
      "cell_type": "code",
      "execution_count": 217,
      "metadata": {},
      "outputs": [
        {
          "name": "stdout",
          "output_type": "stream",
          "text": [
            "\n",
            "Model Coefficients (Relationship between Principal Components and Graduation Rate):\n",
            "       Coefficient\n",
            "PC1   7.895259e-02\n",
            "PC2   3.177807e-03\n",
            "PC3  -6.130791e-03\n",
            "PC4  -5.653642e-05\n",
            "PC5  -6.744100e-03\n",
            "PC6   5.650020e-03\n",
            "PC7  -4.605538e-03\n",
            "PC8   1.712538e-03\n",
            "PC9  -1.523824e-02\n",
            "PC10  1.888818e-02\n",
            "PC11 -1.311228e-02\n",
            "PC12  1.516874e-02\n",
            "PC13  3.164044e-02\n",
            "PC14  5.569860e-03\n",
            "PC15  1.037606e-17\n",
            "\n",
            "Principal Component Loadings (Relationship between Features and Principal Components):\n",
            "    acceptance_rate    pell_grant  stud_fac_ratio  percent_loans  \\\n",
            "0     -3.196923e-01 -4.662035e-01   -1.909794e-01  -2.679990e-01   \n",
            "1     -2.971106e-01  4.795168e-02    2.445889e-01  -4.880668e-01   \n",
            "2      2.353109e-01 -1.693782e-01    3.934809e-01  -2.705711e-01   \n",
            "3      9.093460e-02  5.454923e-02    1.075375e-01   1.842372e-03   \n",
            "4     -1.178428e-02 -5.711085e-02   -1.035937e-01   7.313315e-03   \n",
            "5      1.683981e-01 -4.830429e-02   -6.792594e-02  -8.395840e-02   \n",
            "6      1.240580e-01 -9.322393e-02    1.906197e-01  -1.373138e-02   \n",
            "7     -1.543940e-01 -4.331046e-02   -2.689475e-02  -1.280654e-01   \n",
            "8      1.636683e-01  1.067543e-01   -9.474842e-02   2.152235e-01   \n",
            "9      3.438892e-01 -1.944402e-01    6.649414e-01  -1.132232e-02   \n",
            "10    -3.386744e-01  3.287655e-01    1.897682e-01  -3.470424e-01   \n",
            "11    -5.999177e-01  3.139327e-02    4.425857e-01   5.946484e-01   \n",
            "12     2.391130e-01  2.770956e-01    2.984355e-02   1.841146e-01   \n",
            "13     3.651598e-02  7.053164e-01    3.158656e-02  -1.966488e-01   \n",
            "14    -2.718000e-17 -2.359526e-16    1.817616e-16  -9.111121e-17   \n",
            "\n",
            "     average_act  average_income  region_US-service-schools  region_far-west  \\\n",
            "0   4.928478e-01    4.605094e-01                   0.044718         0.084171   \n",
            "1   9.792831e-02   -1.676380e-01                   0.121749        -0.004956   \n",
            "2  -6.104496e-02   -7.968361e-03                   0.062373         0.069638   \n",
            "3   2.634280e-02    3.283717e-03                  -0.050921        -0.065658   \n",
            "4  -6.976208e-02    2.022603e-02                   0.025882         0.141541   \n",
            "5   1.497448e-02   -5.428439e-03                  -0.008342         0.646704   \n",
            "6   2.278316e-02    6.290629e-02                  -0.006500        -0.594367   \n",
            "7  -2.574490e-02   -3.505030e-02                   0.730210        -0.190370   \n",
            "8  -8.958958e-02   -1.918649e-02                   0.654540         0.172141   \n",
            "9   4.957195e-02    1.916180e-01                   0.070346         0.149218   \n",
            "10 -1.032911e-02   -4.196021e-01                  -0.065266         0.133687   \n",
            "11  3.471356e-02    1.303907e-01                   0.018634         0.126918   \n",
            "12  8.514690e-01   -2.687260e-01                   0.053984        -0.024881   \n",
            "13 -4.801290e-03    6.721333e-01                   0.014410         0.000168   \n",
            "14 -1.152417e-16   -9.679824e-17                  -0.040074        -0.263551   \n",
            "\n",
            "    region_great-lakes  region_mid-east  region_new-england  region_plains  \\\n",
            "0             0.005138         0.135879            0.193438      -0.024737   \n",
            "1            -0.367090        -0.239078            0.068147      -0.276851   \n",
            "2             0.177916        -0.238831           -0.067548       0.158807   \n",
            "3            -0.590414         0.703403           -0.202218       0.064049   \n",
            "4            -0.471736        -0.328881            0.145087       0.765086   \n",
            "5            -0.048642         0.009984           -0.393553      -0.157491   \n",
            "6             0.023032         0.066328            0.154218       0.056511   \n",
            "7             0.177005         0.097607           -0.514686       0.230503   \n",
            "8            -0.184946         0.019694            0.533440      -0.263772   \n",
            "9            -0.011543         0.081078            0.100304      -0.002210   \n",
            "10            0.151898         0.233135            0.234073       0.132738   \n",
            "11           -0.018031        -0.071652           -0.099155       0.010039   \n",
            "12            0.021199        -0.113211           -0.062309       0.100311   \n",
            "13            0.035607        -0.058507           -0.037084       0.046029   \n",
            "14           -0.410804        -0.409496           -0.288729      -0.357005   \n",
            "\n",
            "    region_rocky-mountains  region_southeast  region_southwest  \n",
            "0                 0.003024         -0.216505         -0.068552  \n",
            "1                 0.091061          0.479509          0.217780  \n",
            "2                 0.353285         -0.474217          0.455197  \n",
            "3                 0.086713         -0.149132          0.226849  \n",
            "4                -0.004648          0.038013         -0.145822  \n",
            "5                 0.429530          0.096789         -0.403830  \n",
            "6                 0.575480          0.142201         -0.445308  \n",
            "7                -0.131707          0.051032         -0.083556  \n",
            "8                 0.138695         -0.179136         -0.003888  \n",
            "9                -0.473760          0.149906         -0.267536  \n",
            "10               -0.065856         -0.363321         -0.369168  \n",
            "11                0.190873         -0.042656          0.036314  \n",
            "12                0.016898          0.009631          0.054025  \n",
            "13                0.034922         -0.010511          0.004270  \n",
            "14               -0.200919         -0.503835         -0.295725  \n",
            "\n",
            "Top Contributing Features for Each Principal Component:\n",
            "                      Feature   Loading\n",
            "0                 average_act  0.492848\n",
            "1               percent_loans  0.488067\n",
            "2            region_southeast  0.474217\n",
            "3             region_mid-east  0.703403\n",
            "4               region_plains  0.765086\n",
            "5             region_far-west  0.646704\n",
            "6             region_far-west  0.594367\n",
            "7   region_US-service-schools  0.730210\n",
            "8   region_US-service-schools  0.654540\n",
            "9              stud_fac_ratio  0.664941\n",
            "10             average_income  0.419602\n",
            "11            acceptance_rate  0.599918\n",
            "12                average_act  0.851469\n",
            "13                 pell_grant  0.705316\n",
            "14           region_southeast  0.503835\n"
          ]
        }
      ],
      "source": [
        "coefficients_df = pd.DataFrame(coefficients, index=[f'PC{i+1}' for i in range(len(coefficients))], columns=['Coefficient'])\n",
        "print(\"\\nModel Coefficients (Relationship between Principal Components and Graduation Rate):\")\n",
        "print(coefficients_df)\n",
        "components_df = pd.DataFrame(pca.components_, columns=X_train.columns)\n",
        "print(\"\\nPrincipal Component Loadings (Relationship between Features and Principal Components):\")\n",
        "print(components_df)\n",
        "abs_components_df = components_df.abs()\n",
        "top_contributors = abs_components_df.apply(lambda x: x.idxmax(), axis=1) \n",
        "top_feature_loadings = abs_components_df.max(axis=1)  \n",
        "\n",
        "top_contributors_df = pd.DataFrame({'Feature': top_contributors, 'Loading': top_feature_loadings})\n",
        "print(\"\\nTop Contributing Features for Each Principal Component:\")\n",
        "print(top_contributors_df)"
      ]
    },
    {
      "cell_type": "markdown",
      "metadata": {},
      "source": [
        "Interpretation of PCA results: \n",
        "\n",
        "Based on the scree plot, there is an elbow at 2 components. We also know that 95% of the data can be explained by 11 components. The first two components are most heavily contributed to by average ACT and percent loans. Components 2-8 are most affected by region. From this model, we can determine that the percent of loans, average ACT, and school region best predict graduation rate among the studied factors. \n"
      ]
    }
  ],
  "metadata": {
    "colab": {
      "include_colab_link": true,
      "provenance": []
    },
    "kernelspec": {
      "display_name": "Python 3",
      "name": "python3"
    },
    "language_info": {
      "codemirror_mode": {
        "name": "ipython",
        "version": 3
      },
      "file_extension": ".py",
      "mimetype": "text/x-python",
      "name": "python",
      "nbconvert_exporter": "python",
      "pygments_lexer": "ipython3",
      "version": "3.11.5"
    }
  },
  "nbformat": 4,
  "nbformat_minor": 0
}
